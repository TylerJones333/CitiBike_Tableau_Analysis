{
 "cells": [
  {
   "cell_type": "code",
   "execution_count": 1,
   "metadata": {},
   "outputs": [],
   "source": [
    "import pandas as pd\n",
    "import numpy as np"
   ]
  },
  {
   "cell_type": "code",
   "execution_count": 36,
   "metadata": {},
   "outputs": [],
   "source": [
    "c2013 = pd.read_csv(\"Citibike2013(2).csv\")\n",
    "c2014 = pd.read_csv(\"Citibike2014.csv\")\n",
    "c2015 = pd.read_csv(\"Citibike2015.csv\")\n",
    "c2016 = pd.read_csv(\"Citibike2016.csv\")\n",
    "c2017 = pd.read_csv(\"Citibike2017(2).csv\")\n",
    "c2018 = pd.read_csv(\"Citibike2018.csv\")\n",
    "c2019 = pd.read_csv(\"Citibike2019.csv\")"
   ]
  },
  {
   "cell_type": "code",
   "execution_count": 39,
   "metadata": {},
   "outputs": [],
   "source": [
    "df_2013 = pd.DataFrame(c2013)\n",
    "df_2014 = pd.DataFrame(c2014)\n",
    "df_2015 = pd.DataFrame(c2015)\n",
    "df_2016 = pd.DataFrame(c2016)\n",
    "df_2017 = pd.DataFrame(c2017)\n",
    "df_2018 = pd.DataFrame(c2018)\n",
    "df_2019 = pd.DataFrame(c2019)"
   ]
  },
  {
   "cell_type": "code",
   "execution_count": 46,
   "metadata": {},
   "outputs": [],
   "source": [
    "df_2017 = pd.DataFrame(c2017)\n",
    "clean_2017_df = df_2017.rename(columns={\"Trip Duration\": \"tripduration\",\n",
    "                        \"Start Time\": \"starttime\", \n",
    "                        \"Stop Time\": \"stoptime\", \n",
    "                        \"Start Station ID\": \"start station id\", \n",
    "                        \"Start Station Name\":\"start station name\", \n",
    "                        \"Start Station Latitude\": \"start station latitude\", \n",
    "                        \"Start Station Longitude\": \"start station longitude\",\n",
    "                        \"End Station ID\": \"end station id\", \n",
    "                        \"End Station Name\":\"end station name\",\n",
    "                        \"End Station Latitude\": \"end station latitude\",\n",
    "                        \"End Station Longitude\": \"end station longitude\", \n",
    "                        \"Bike ID\": \"bikeid\", \n",
    "                        \"User Type\": \"usertype\", \n",
    "                        \"Birth Year\": \"birth year\", \n",
    "                        \"Gender\":\"gender\"})\n",
    "# clean_2017_df.to_csv('New_CitiBike_2017.csv', index=False)  \n"
   ]
  },
  {
   "cell_type": "code",
   "execution_count": 49,
   "metadata": {},
   "outputs": [],
   "source": [
    "frames = [df_2013, df_2014, df_2015, df_2016, clean_2017_df, df_2018, df_2019]\n",
    "result_df = pd.concat(frames)\n",
    "result_df\n",
    "\n",
    "result_df.to_csv('CitiBike2013_2019.csv', index=False)"
   ]
  },
  {
   "cell_type": "code",
   "execution_count": null,
   "metadata": {},
   "outputs": [],
   "source": []
  }
 ],
 "metadata": {
  "kernelspec": {
   "display_name": "Python [conda env:PythonData5] *",
   "language": "python",
   "name": "conda-env-PythonData5-py"
  },
  "language_info": {
   "codemirror_mode": {
    "name": "ipython",
    "version": 3
   },
   "file_extension": ".py",
   "mimetype": "text/x-python",
   "name": "python",
   "nbconvert_exporter": "python",
   "pygments_lexer": "ipython3",
   "version": "3.6.9"
  }
 },
 "nbformat": 4,
 "nbformat_minor": 2
}
